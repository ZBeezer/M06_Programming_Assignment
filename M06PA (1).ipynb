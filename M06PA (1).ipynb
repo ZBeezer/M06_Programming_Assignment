{
 "cells": [
  {
   "cell_type": "code",
   "execution_count": null,
   "id": "34f56680-afa2-449a-af35-1ddb54e6e9dc",
   "metadata": {},
   "outputs": [],
   "source": [
    "#13.1\n",
    "\n",
    "from datetime import date\n",
    "\n",
    "# Get today's date as a string\n",
    "today_date = date.today().isoformat()\n",
    "\n",
    "# Write to 'today.txt'\n",
    "with open(\"today.txt\", \"w\") as file:\n",
    "    file.write(today_date)\n"
   ]
  },
  {
   "cell_type": "code",
   "execution_count": 3,
   "id": "094e8bef-f47f-4b9a-af73-fcb946a510b1",
   "metadata": {},
   "outputs": [
    {
     "name": "stdout",
     "output_type": "stream",
     "text": [
      "Date from file: 2025-02-24\n"
     ]
    }
   ],
   "source": [
    "#13.2\n",
    "\n",
    "# Read from 'today.txt'\n",
    "with open(\"today.txt\", \"r\") as file:\n",
    "    today_string = file.read().strip()\n",
    "\n",
    "print(\"Date from file:\", today_string)\n"
   ]
  },
  {
   "cell_type": "code",
   "execution_count": 2,
   "id": "ac74a78d-7b01-45a9-93d3-f3674fecc955",
   "metadata": {},
   "outputs": [
    {
     "name": "stdout",
     "output_type": "stream",
     "text": [
      "Parsed date: 2025-02-24\n"
     ]
    }
   ],
   "source": [
    "#13.3\n",
    "\n",
    "from datetime import datetime\n",
    "\n",
    "# Convert string to date object\n",
    "parsed_date = datetime.strptime(today_string, \"%Y-%m-%d\").date()\n",
    "\n",
    "print(\"Parsed date:\", parsed_date)"
   ]
  },
  {
   "cell_type": "code",
   "execution_count": 6,
   "id": "f2895489-a76d-4743-bcef-79c0fcd4eddb",
   "metadata": {},
   "outputs": [],
   "source": [
    "import multiprocessing\n",
    "import time\n",
    "import random\n",
    "from datetime import datetime\n",
    "\n",
    "def print_time():\n",
    "    wait_time = random.uniform(0, 1)  # Random float between 0 and 1\n",
    "    time.sleep(wait_time)  # Process waits for the random time\n",
    "\n",
    "    # Print process name and time\n",
    "    print(f\"{multiprocessing.current_process().name} - Time: {datetime.now().strftime('%H:%M:%S.%f')}\")\n",
    "\n",
    "# Create and start the three processes\n",
    "if __name__ == \"__main__\":\n",
    "    processes = []  # Store process objects\n",
    "\n",
    "    for i in range(3):\n",
    "        process = multiprocessing.Process(target=print_time, name=f\"Process-{i+1}\")\n",
    "        processes.append(process)\n",
    "        process.start()  # Start process\n",
    "\n",
    "    # Wait for processes to finish\n",
    "    for process in processes:\n",
    "        process.join()\n",
    "#view repo for output"
   ]
  }
 ],
 "metadata": {
  "kernelspec": {
   "display_name": "Python 3 (ipykernel)",
   "language": "python",
   "name": "python3"
  },
  "language_info": {
   "codemirror_mode": {
    "name": "ipython",
    "version": 3
   },
   "file_extension": ".py",
   "mimetype": "text/x-python",
   "name": "python",
   "nbconvert_exporter": "python",
   "pygments_lexer": "ipython3",
   "version": "3.11.7"
  }
 },
 "nbformat": 4,
 "nbformat_minor": 5
}
